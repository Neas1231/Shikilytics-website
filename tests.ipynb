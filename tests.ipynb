{
 "cells": [
  {
   "cell_type": "code",
   "execution_count": null,
   "id": "343b8b62",
   "metadata": {},
   "outputs": [],
   "source": [
    "import requests\n",
    "import random\n",
    "from bs4 import BeautifulSoup\n",
    "user_agents = [\n",
    "        \"Mozilla/5.0 (Windows NT 10.0; Win64; x64) AppleWebKit/537.36 (KHTML, like Gecko) Chrome/91.0.4472.124 Safari/537.36\",\n",
    "        \"Mozilla/5.0 (Macintosh; Intel Mac OS X 10_15_7) AppleWebKit/605.1.15 (KHTML, like Gecko) Version/14.1.1 Safari/605.1.15\",\n",
    "        \"Mozilla/5.0 (Linux; Android 10; Pixel 3 XL Build/QP1A.190711.020) AppleWebKit/537.36 (KHTML, like Gecko) Chrome/91.0.4472.114 Mobile Safari/537.36\",\n",
    "        \"Mozilla/5.0 (iPhone; CPU iPhone OS 14_0 like Mac OS X) AppleWebKit/605.1.15 (KHTML, like Gecko) Version/14.0 Mobile/15E148 Safari/604.1\",\n",
    "        \"Mozilla/5.0 (Linux; Android 11; SM-G991B Build/RP1A.200720.012) AppleWebKit/537.36 (KHTML, like Gecko) Chrome/91.0.4472.114 Mobile Safari/537.36\"\n",
    "    ]\n",
    "\n",
    "headers = {\n",
    "    \"User-Agent\": random.choice(user_agents),\n",
    "    \"Accept-Language\": random.choice([\"en-US,en;q=0.9\", \"fr-FR,fr;q=0.9\", \"es-ES,es;q=0.9\"]),\n",
    "    \"Accept-Encoding\": \"gzip, deflate, br\",\n",
    "    \"Connection\": \"keep-alive\"\n",
    "}\n",
    "\n",
    "profile_name = 'Neas'\n",
    "\n",
    "page_profile = requests.get(f\"https://shikimori.one/{profile_name}\", headers=headers)\n",
    "page_watching = requests.get(f\"https://shikimori.one/{profile_name}/list/anime\", headers=headers)\n",
    "soup_profile = BeautifulSoup(page_profile.text, 'html.parser')\n",
    "soup_watching = BeautifulSoup(page_watching.text, 'html.parser')\n",
    "with open('profile.html', 'w', encoding='utf-8') as file:\n",
    "    file.write(str(soup_profile))\n",
    "with open('watching.html', 'w', encoding='utf-8') as file:\n",
    "    file.write(str(soup_watching))\n"
   ]
  },
  {
   "cell_type": "markdown",
   "id": "b9189f71",
   "metadata": {},
   "source": [
    "# Что в списке у пользователя"
   ]
  },
  {
   "cell_type": "code",
   "execution_count": null,
   "id": "3eab53e1",
   "metadata": {},
   "outputs": [
    {
     "name": "stdout",
     "output_type": "stream",
     "text": [
      "Запланировано 799\n",
      "Смотрю 260\n",
      "Просмотрено 353\n",
      "Отложено 6\n"
     ]
    }
   ],
   "source": [
    "watching_soup = soup_profile.find(\"div\",class_='b-stats_bar anime')\n",
    "for watch_type in ['Запланировано', 'Смотрю','Просмотрено','Отложено','Брошено']:\n",
    "    selected_info = watching_soup.select(f\"[data-type]:-soup-contains('{watch_type}') span\")\n",
    "    if selected_info:\n",
    "        print(watch_type,selected_info[0].text)"
   ]
  },
  {
   "cell_type": "code",
   "execution_count": null,
   "id": "8a22b3da",
   "metadata": {},
   "outputs": [],
   "source": []
  },
  {
   "cell_type": "code",
   "execution_count": null,
   "id": "f1a34ee6",
   "metadata": {},
   "outputs": [],
   "source": []
  }
 ],
 "metadata": {
  "kernelspec": {
   "display_name": ".venv",
   "language": "python",
   "name": "python3"
  },
  "language_info": {
   "codemirror_mode": {
    "name": "ipython",
    "version": 3
   },
   "file_extension": ".py",
   "mimetype": "text/x-python",
   "name": "python",
   "nbconvert_exporter": "python",
   "pygments_lexer": "ipython3",
   "version": "3.12.10"
  }
 },
 "nbformat": 4,
 "nbformat_minor": 5
}
